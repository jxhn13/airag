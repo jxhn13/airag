{
 "cells": [
  {
   "cell_type": "code",
   "execution_count": null,
   "metadata": {},
   "outputs": [],
   "source": []
  },
  {
   "cell_type": "code",
   "execution_count": null,
   "metadata": {},
   "outputs": [],
   "source": []
  },
  {
   "cell_type": "code",
   "execution_count": 5,
   "metadata": {},
   "outputs": [
    {
     "name": "stdout",
     "output_type": "stream",
     "text": [
      "[[ 1  2]\n",
      " [ 3 24]\n",
      " [56 23]]\n"
     ]
    }
   ],
   "source": [
    "import numpy as np\n",
    "a=np.array([\n",
    "    [\n",
    "        [1,2,3],[24,56,23]]],dtype=int)\n",
    "b=a.reshape(3,2)\n",
    "print(b)"
   ]
  },
  {
   "cell_type": "code",
   "execution_count": 1,
   "metadata": {},
   "outputs": [
    {
     "name": "stdout",
     "output_type": "stream",
     "text": [
      "0.4920783042907715\n"
     ]
    }
   ],
   "source": [
    "import time\n",
    "import  numpy as np\n",
    "start=time.time()\n",
    "a=np.arange(100000000)\n",
    "b=np.arange(100000000,200000000)\n",
    "c=a+b\n",
    "\n",
    "print(time.time()-start)"
   ]
  },
  {
   "cell_type": "markdown",
   "metadata": {},
   "source": [
    "BROAD-CASTING"
   ]
  },
  {
   "cell_type": "code",
   "execution_count": null,
   "metadata": {},
   "outputs": [],
   "source": []
  },
  {
   "cell_type": "code",
   "execution_count": 10,
   "metadata": {},
   "outputs": [
    {
     "name": "stdout",
     "output_type": "stream",
     "text": [
      "[[ 1]\n",
      " [ 2]\n",
      " [ 6]\n",
      " [12]]\n",
      "[[ 1.  2.  3.]\n",
      " [11. 12. 13.]\n",
      " [21. 22. 23.]\n",
      " [31. 32. 33.]]\n"
     ]
    }
   ],
   "source": [
    "import numpy as np\n",
    "a=np.array([1,2,3,4])\n",
    "b=np.array([1,1,2,3])\n",
    "c=a*b\n",
    "print(c.reshape(4,1))\n",
    "aa = np.array([[0.0, 0.0, 0.0], [10.0, 10.0, 10.0], [20.0, 20.0, 20.0], [30.0, 30.0, 30.0]])\n",
    "bb = np.array([1.0, 2.0, 3.0])\n",
    "print(aa+bb)"
   ]
  },
  {
   "cell_type": "markdown",
   "metadata": {},
   "source": [
    "ITERATING OVER AN ARRAY"
   ]
  },
  {
   "cell_type": "code",
   "execution_count": 27,
   "metadata": {},
   "outputs": [
    {
     "name": "stdout",
     "output_type": "stream",
     "text": [
      "[[ 0  5 10 15]\n",
      " [20 25 30 35]\n",
      " [40 45 50 55]]\n",
      "0 5 10 15 20 25 30 35 40 45 50 55 0 5 10 15 20 25 30 35 40 45 50 55 "
     ]
    }
   ],
   "source": [
    "import numpy as np\n",
    "a=np.arange(0,60,5)\n",
    "a=a.reshape(3,4)\n",
    "print(a)\n",
    "for i in np.nditer(a):\n",
    "    print(i,end=' ')\n",
    "b=a.T\n",
    "for i in np.nditer(b):\n",
    "    print(i,end=' ')\n"
   ]
  },
  {
   "cell_type": "markdown",
   "metadata": {},
   "source": [
    "MANIPULATION"
   ]
  },
  {
   "cell_type": "code",
   "execution_count": 28,
   "metadata": {},
   "outputs": [
    {
     "name": "stdout",
     "output_type": "stream",
     "text": [
      "The original array:\n",
      "[0 1 2 3 4 5 6 7]\n",
      "The modified array:\n",
      "[[0 1]\n",
      " [2 3]\n",
      " [4 5]\n",
      " [6 7]]\n"
     ]
    }
   ],
   "source": [
    "import numpy as np\n",
    "a = np.arange(8)\n",
    "print('The original array:')\n",
    "print(a)\n",
    "b = a.reshape(4,2)\n",
    "print('The modified array:')\n",
    "print(b)"
   ]
  },
  {
   "cell_type": "markdown",
   "metadata": {},
   "source": [
    "FLATTEN"
   ]
  },
  {
   "cell_type": "code",
   "execution_count": 35,
   "metadata": {},
   "outputs": [
    {
     "name": "stdout",
     "output_type": "stream",
     "text": [
      "[[[ 0  5]\n",
      "  [10 15]]\n",
      "\n",
      " [[20 25]\n",
      "  [30 35]]\n",
      "\n",
      " [[40 45]\n",
      "  [50 55]]]\n",
      "20\n"
     ]
    }
   ],
   "source": [
    "import numpy as np\n",
    "a = np.arange(0,60,5).reshape(3,2,2)\n",
    "print(a)\n",
    "\n",
    "print(a.flat[4])"
   ]
  },
  {
   "cell_type": "markdown",
   "metadata": {},
   "source": [
    "TRANSPOSE"
   ]
  },
  {
   "cell_type": "code",
   "execution_count": 41,
   "metadata": {},
   "outputs": [
    {
     "name": "stdout",
     "output_type": "stream",
     "text": [
      "[[0 4]\n",
      " [1 5]\n",
      " [2 6]\n",
      " [3 7]]\n"
     ]
    }
   ],
   "source": [
    "import numpy as np\n",
    "a=np.arange(8).reshape(2,4)\n",
    "b=a.T\n",
    "print(b)"
   ]
  },
  {
   "cell_type": "markdown",
   "metadata": {},
   "source": [
    "CONCATENATE"
   ]
  },
  {
   "cell_type": "code",
   "execution_count": 46,
   "metadata": {},
   "outputs": [
    {
     "name": "stdout",
     "output_type": "stream",
     "text": [
      "[[ 1  2  6  7]\n",
      " [ 4  7 90  4]]\n"
     ]
    }
   ],
   "source": [
    "import numpy as np\n",
    "a=np.array([[1,2],[4,7]])\n",
    "b=np.array([[6,7],[90,4]])\n",
    "c=np.concatenate((a,b),axis=1)\n",
    "print(c)"
   ]
  },
  {
   "cell_type": "markdown",
   "metadata": {},
   "source": [
    "JOINING BY STACK"
   ]
  },
  {
   "cell_type": "code",
   "execution_count": 48,
   "metadata": {},
   "outputs": [
    {
     "name": "stdout",
     "output_type": "stream",
     "text": [
      "[[[3 4]\n",
      "  [5 6]]\n",
      "\n",
      " [[7 8]\n",
      "  [7 3]]]\n"
     ]
    }
   ],
   "source": [
    "import numpy as np\n",
    "a=np.array([[3,4],[7,8]])\n",
    "b=np.array([[5,6],[7,3]])\n",
    "c=np.stack((a,b),1)\n",
    "print(c)"
   ]
  },
  {
   "cell_type": "code",
   "execution_count": 49,
   "metadata": {},
   "outputs": [
    {
     "name": "stdout",
     "output_type": "stream",
     "text": [
      "[[3 4 5 6]\n",
      " [7 8 7 3]]\n"
     ]
    }
   ],
   "source": [
    "import numpy as np\n",
    "a=np.array([[3,4],[7,8]])\n",
    "b=np.array([[5,6],[7,3]])\n",
    "c=np.hstack((a,b))\n",
    "print(c)"
   ]
  },
  {
   "cell_type": "code",
   "execution_count": 50,
   "metadata": {},
   "outputs": [
    {
     "name": "stdout",
     "output_type": "stream",
     "text": [
      "[[3 4]\n",
      " [7 8]\n",
      " [5 6]\n",
      " [7 3]]\n"
     ]
    }
   ],
   "source": [
    "import numpy as np\n",
    "a=np.array([[3,4],[7,8]])\n",
    "b=np.array([[5,6],[7,3]])\n",
    "c=np.vstack((a,b))\n",
    "print(c)"
   ]
  },
  {
   "cell_type": "markdown",
   "metadata": {},
   "source": [
    "SPLITTING ARRAYS"
   ]
  },
  {
   "cell_type": "code",
   "execution_count": 58,
   "metadata": {},
   "outputs": [
    {
     "name": "stdout",
     "output_type": "stream",
     "text": [
      "[array([5, 4]), array([6, 7, 8]), array([44, 34,  2,  3, 12])]\n"
     ]
    }
   ],
   "source": [
    "import numpy as np\n",
    "a = np.array([5, 4, 6, 7, 8, 44, 34, 2, 3, 12])\n",
    "b = np.split(a, [2,5])  \n",
    "print(b)\n"
   ]
  },
  {
   "cell_type": "code",
   "execution_count": 61,
   "metadata": {},
   "outputs": [
    {
     "name": "stdout",
     "output_type": "stream",
     "text": [
      "[array([5, 4, 6, 7, 8]), array([44, 34,  2,  3, 12])]\n"
     ]
    }
   ],
   "source": [
    "import numpy as np\n",
    "a = np.array([5, 4, 6, 7, 8, 44, 34, 2, 3, 12])\n",
    "b = np.hsplit(a,2)  \n",
    "print(b)\n"
   ]
  },
  {
   "cell_type": "markdown",
   "metadata": {},
   "source": [
    "RESIZING"
   ]
  },
  {
   "cell_type": "code",
   "execution_count": 64,
   "metadata": {},
   "outputs": [
    {
     "name": "stdout",
     "output_type": "stream",
     "text": [
      "[[1 2]\n",
      " [3 4]\n",
      " [2 3]]\n"
     ]
    }
   ],
   "source": [
    "import numpy as np\n",
    "a= np.array([[1,2,3,4],[2,3,4,5]])\n",
    "b = np.resize(a, (3,2))\n",
    "print(b)"
   ]
  },
  {
   "cell_type": "code",
   "execution_count": null,
   "metadata": {},
   "outputs": [
    {
     "name": "stdout",
     "output_type": "stream",
     "text": [
      "[[[ 0  5]\n",
      "  [10 15]]\n",
      "\n",
      " [[20 25]\n",
      "  [30 35]]\n",
      "\n",
      " [[40 45]\n",
      "  [50 55]]]\n",
      "20\n"
     ]
    }
   ],
   "source": [
    "import numpy as np\n",
    "a = np.arange(0,60,5).reshape(3,2,2)\n",
    "print(a)\n",
    "\n",
    "print(a.flat[4])"
   ]
  },
  {
   "cell_type": "markdown",
   "metadata": {},
   "source": [
    "NumPy - Mathematical Functions"
   ]
  },
  {
   "cell_type": "code",
   "execution_count": 69,
   "metadata": {},
   "outputs": [
    {
     "name": "stdout",
     "output_type": "stream",
     "text": [
      "[ 0. 30. 45. 60. 90.]\n"
     ]
    }
   ],
   "source": [
    "import numpy as np\n",
    "a = np.array([0,30,45,60,90])\n",
    "b=np.sin(a*np.pi/180)\n",
    "print(np.degrees(np.arcsin(b)))"
   ]
  },
  {
   "cell_type": "code",
   "execution_count": 66,
   "metadata": {},
   "outputs": [
    {
     "name": "stdout",
     "output_type": "stream",
     "text": [
      "[1.00000000e+00 8.66025404e-01 7.07106781e-01 5.00000000e-01\n",
      " 6.12323400e-17]\n"
     ]
    }
   ],
   "source": [
    "import numpy as np\n",
    "a = np.array([0,30,45,60,90])\n",
    "print(np.cos(a*np.pi/180))"
   ]
  },
  {
   "cell_type": "code",
   "execution_count": 71,
   "metadata": {},
   "outputs": [
    {
     "name": "stdout",
     "output_type": "stream",
     "text": [
      "[  1.   6. 123.   1.  26.]\n",
      "[  1.   6. 123.   1.  26.]\n",
      "[  1.   5. 123.   0.  25.]\n"
     ]
    }
   ],
   "source": [
    "import numpy as np\n",
    "a = np.array([1.0,5.55, 123, 0.567, 25.532])\n",
    "print(np.around(a))\n",
    "print(np.ceil(a))\n",
    "print(np.floor(a))"
   ]
  },
  {
   "cell_type": "markdown",
   "metadata": {},
   "source": [
    "NumPy - Arithmetic Operations"
   ]
  },
  {
   "cell_type": "code",
   "execution_count": 75,
   "metadata": {},
   "outputs": [
    {
     "name": "stdout",
     "output_type": "stream",
     "text": [
      "[[20. 21. 22.]\n",
      " [23. 24. 25.]\n",
      " [26. 27. 28.]]\n",
      "[[-20. -19. -18.]\n",
      " [-17. -16. -15.]\n",
      " [-14. -13. -12.]]\n",
      "[[  0.  20.  40.]\n",
      " [ 60.  80. 100.]\n",
      " [120. 140. 160.]]\n",
      "[[0.   0.05 0.1 ]\n",
      " [0.15 0.2  0.25]\n",
      " [0.3  0.35 0.4 ]]\n"
     ]
    }
   ],
   "source": [
    "import numpy as np\n",
    "a=np.arange(9,dtype=float).reshape(3,3)\n",
    "b=np.array([20,20,20])\n",
    "print(np.add(a,b))\n",
    "print(np.subtract(a,b))\n",
    "print(np.multiply(a,b))\n",
    "print(np.divide(a,b))"
   ]
  },
  {
   "cell_type": "code",
   "execution_count": 78,
   "metadata": {},
   "outputs": [
    {
     "name": "stdout",
     "output_type": "stream",
     "text": [
      "[-0.  0. 11.  1.]\n",
      "[-5.6  0.2  0.   1. ]\n",
      "[-0.+5.6j  0.-0.2j 11.-0.j   1.-1.j ]\n",
      "[-90.  90.   0.  45.]\n"
     ]
    }
   ],
   "source": [
    "import numpy as np\n",
    "a = np.array([-5.6j, 0.2j, 11. , 1+1j])\n",
    "print(np.real(a))\n",
    "print(np.imag(a))\n",
    "print(np.conj(a))\n",
    "print(np.angle(a,deg=True))\n"
   ]
  },
  {
   "cell_type": "code",
   "execution_count": null,
   "metadata": {},
   "outputs": [
    {
     "name": "stdout",
     "output_type": "stream",
     "text": [
      "(5,)\n"
     ]
    }
   ],
   "source": [
    "import numpy as np\n",
    "list=[2,34,45,24,4]\n",
    "numpyarray=np.array(list)\n",
    "print(numpyarray)"
   ]
  },
  {
   "cell_type": "code",
   "execution_count": 6,
   "metadata": {},
   "outputs": [
    {
     "name": "stdout",
     "output_type": "stream",
     "text": [
      "[[0 1 0 1 0 1 0 1]\n",
      " [1 0 1 0 1 0 1 0]\n",
      " [0 1 0 1 0 1 0 1]\n",
      " [1 0 1 0 1 0 1 0]\n",
      " [0 1 0 1 0 1 0 1]\n",
      " [1 0 1 0 1 0 1 0]\n",
      " [0 1 0 1 0 1 0 1]\n",
      " [1 0 1 0 1 0 1 0]]\n"
     ]
    }
   ],
   "source": [
    "import numpy as np\n",
    "a=np.zeros((8,8),dtype=int)\n",
    "a[1::2, ::2] = 1  \n",
    "a[::2, 1::2] = 1 \n",
    "print(a)\n",
    "\n",
    "\n"
   ]
  },
  {
   "cell_type": "code",
   "execution_count": 9,
   "metadata": {},
   "outputs": [
    {
     "name": "stdout",
     "output_type": "stream",
     "text": [
      "[1 2 3 4 5]\n",
      "[ 6  7  8  9 10]\n"
     ]
    }
   ],
   "source": [
    "import numpy as np\n",
    "list = [1, 2, 3, 4, 5]\n",
    "tuple = (6, 7, 8, 9, 10)\n",
    "array_list = np.array(list)\n",
    "array_tuple = np.array(tuple)\n",
    "print(array_list)\n",
    "print(array_tuple)"
   ]
  },
  {
   "cell_type": "code",
   "execution_count": 5,
   "metadata": {},
   "outputs": [
    {
     "name": "stdout",
     "output_type": "stream",
     "text": [
      "[[4. 0. 0. 0.]\n",
      " [0. 5. 0. 0.]\n",
      " [0. 0. 6. 0.]\n",
      " [0. 0. 0. 8.]]\n"
     ]
    }
   ],
   "source": [
    "import numpy as np\n",
    "\n",
    "matrix = np.zeros((4, 4))\n",
    "\n",
    "np.fill_diagonal(matrix, [4,5,6,8])\n",
    "\n",
    "print(matrix)\n",
    "\n",
    "\n",
    "\n",
    "\n"
   ]
  },
  {
   "cell_type": "code",
   "execution_count": 9,
   "metadata": {},
   "outputs": [
    {
     "name": "stdout",
     "output_type": "stream",
     "text": [
      "memory: 20\n"
     ]
    }
   ],
   "source": [
    "import numpy as np\n",
    "b=np.array([12,34,45,342,45])\n",
    "\n",
    "print(\"memory:\",b.nbytes)"
   ]
  },
  {
   "cell_type": "code",
   "execution_count": 11,
   "metadata": {},
   "outputs": [
    {
     "name": "stdout",
     "output_type": "stream",
     "text": [
      "[ 32.     53.6   113.378  93.2   211.838]\n"
     ]
    }
   ],
   "source": [
    "import numpy as np\n",
    "\n",
    "celsius_array =np.array([0, 12, 45.21, 34, 99.91])\n",
    "fahrenheit_array = (celsius_array * 9/5) + 32\n",
    "print(fahrenheit_array)\n"
   ]
  },
  {
   "cell_type": "code",
   "execution_count": null,
   "metadata": {},
   "outputs": [],
   "source": []
  },
  {
   "cell_type": "code",
   "execution_count": null,
   "metadata": {},
   "outputs": [],
   "source": []
  }
 ],
 "metadata": {
  "kernelspec": {
   "display_name": "Python 3",
   "language": "python",
   "name": "python3"
  },
  "language_info": {
   "codemirror_mode": {
    "name": "ipython",
    "version": 3
   },
   "file_extension": ".py",
   "mimetype": "text/x-python",
   "name": "python",
   "nbconvert_exporter": "python",
   "pygments_lexer": "ipython3",
   "version": "3.8.0"
  }
 },
 "nbformat": 4,
 "nbformat_minor": 2
}
